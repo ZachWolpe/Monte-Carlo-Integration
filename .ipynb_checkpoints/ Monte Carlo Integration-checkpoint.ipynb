{
 "cells": [
  {
   "cell_type": "markdown",
   "metadata": {},
   "source": [
    "# Monte Carlo Integration\n",
    "\n",
    "```\n",
    "Author:\n",
    "    Zach Wolpe\n",
    "    zachcolinwolpe@gmail.com \n",
    "    www.zachwolpe.com\n",
    "```\n",
    "\n",
    "\n",
    "Monte Carlo Integration is a sampling method a approximating the area under a complex curve - often required in calculus - that is not easily integrated.\n",
    "\n",
    "### Alogorithm\n",
    " 1. Define the domain space to search\n",
    " 2. Randomly sample from the domain space\n",
    " 3. Assess the sample to be above or below the true fuction by using its values as inputs\n",
    " 4. Repeat steps 2 and 3 many comes\n",
    " 4. Compute the proportion of samples below the curve: a converging approximation of the true area under the curve"
   ]
  },
  {
   "cell_type": "code",
   "execution_count": null,
   "metadata": {},
   "outputs": [],
   "source": []
  }
 ],
 "metadata": {
  "kernelspec": {
   "display_name": "Python 3",
   "language": "python",
   "name": "python3"
  },
  "language_info": {
   "codemirror_mode": {
    "name": "ipython",
    "version": 3
   },
   "file_extension": ".py",
   "mimetype": "text/x-python",
   "name": "python",
   "nbconvert_exporter": "python",
   "pygments_lexer": "ipython3",
   "version": "3.7.3"
  }
 },
 "nbformat": 4,
 "nbformat_minor": 2
}
